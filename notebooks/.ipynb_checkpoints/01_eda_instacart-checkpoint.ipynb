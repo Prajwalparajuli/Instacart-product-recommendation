{
 "cells": [
  {
   "cell_type": "markdown",
   "id": "dbe3a5ad",
   "metadata": {},
   "source": [
    "## Exploratory Data Analysis\n",
    "### Instacart Market Basket Analysis"
   ]
  },
  {
   "cell_type": "markdown",
   "id": "bf650b07",
   "metadata": {},
   "source": [
    "This notebook performs explortory data analysis on the Instacart Online Grocery Shopping dataset. \n",
    "The goal of the EDA are to:\n",
    "- Unserstand the structure and statistics of the data.\n",
    "- Visualize user behavior, product demand, and reorder patterns.\n",
    "- Identify relationships and insights that will guide preprocessing and feature engineering."
   ]
  },
  {
   "cell_type": "markdown",
   "id": "0e8a44b6",
   "metadata": {},
   "source": [
    "### Loading the necessary libraries and data"
   ]
  },
  {
   "cell_type": "code",
   "execution_count": null,
   "id": "b8e2ff07",
   "metadata": {},
   "outputs": [
    {
     "ename": "",
     "evalue": "",
     "output_type": "error",
     "traceback": [
      "\u001b[1;31mRunning cells with '.venv (Python 3.13.1)' requires the ipykernel package.\n",
      "\u001b[1;31mInstall 'ipykernel' into the Python environment. \n",
      "\u001b[1;31mCommand: '\"c:/Users/prajw/Desktop/Statistical and Machine Learning/Project/insta-rec/.venv/Scripts/python.exe\" -m pip install ipykernel -U --force-reinstall'"
     ]
    }
   ],
   "source": [
    "import pandas as pd\n",
    "import numpy as np\n",
    "\n",
    "import matplotlib.pyplot as plt\n",
    "import seaborn as sns\n",
    "\n",
    "from pathlib import Path\n",
    "\n",
    "RAW = Path(\"../data/raw\")\n",
    "PROCESSED = Path(\"../data/processed\")\n",
    "\n",
    "orders = pd.read_csv(RAW/\"orders.csv\")\n",
    "order_prod_prior = pd.read_csv(RAW/\"order_products__prior.csv\")\n",
    "order_prod_train = pd.read_csv(RAW/\"order_products__train.csv\")\n",
    "products = pd.read_csv(RAW/\"products.csv\")\n",
    "aisles = pd.read_csv(RAW/\"aisles.csv\")\n",
    "departments = pd.read_csv(RAW/\"departments.csv\")\n",
    "\n",
    "print(\"Orders:\", orders.shape)\n",
    "print(\"Order Products Prior:\", order_prod_prior.shape)\n",
    "print(\"Order Products Train:\", order_prod_train.shape)\n",
    "print(\"Products:\", products.shape)\n",
    "print(\"Aisles:\", aisles.shape)\n",
    "print(\"Departments:\", departments.shape)\n"
   ]
  },
  {
   "cell_type": "markdown",
   "id": "fa9a1439",
   "metadata": {},
   "source": [
    "### Dataset Overview\n",
    "\n",
    "- **orders.csv**: Contains order-level information such as order number, day of week, hour of day, and days since prior order.  \n",
    "- **order_products__prior.csv**: Line-item details of products from prior orders (used for feature engineering and EDA).  \n",
    "- **order_products__train.csv**: Line-item details of products from training orders (used for supervised learning).  \n",
    "- **products.csv**: Product metadata including product name, aisle, and department IDs.  \n",
    "- **aisles.csv**: Aisle names and IDs.  \n",
    "- **departments.csv**: Department names and IDs.  \n",
    "\n",
    "For EDA, we primarily use `orders` (eval_set = \"prior\") joined with `order_products__prior` and product metadata.\n"
   ]
  },
  {
   "cell_type": "markdown",
   "id": "e16ecf37",
   "metadata": {},
   "source": [
    "### Data Overview and Statistics\n",
    "\n",
    "Before visualizing, we examine the structure and summary statistics of the datasets.  \n",
    "This helps identify missing values, variable types, and potential issues (e.g., outliers, skewness).\n"
   ]
  },
  {
   "cell_type": "code",
   "execution_count": null,
   "id": "3cf9c693",
   "metadata": {},
   "outputs": [],
   "source": [
    "# Orders dataset\n",
    "display(orders.head())\n",
    "orders.info()\n",
    "orders[['order_hour_of_day', 'order_dow', 'days_since_prior_order']].describe().T\n",
    "print(\"orders eval_set distribution:\", orders[\"eval_set\"].value_counts(normalize=True))\n"
   ]
  },
  {
   "cell_type": "markdown",
   "id": "4a0234ea",
   "metadata": {},
   "source": [
    "- `order_id` and `user_id` are identifiers.  \n",
    "- `eval_set` has values: prior, train, test (only prior used for EDA).  \n",
    "- `order_number` shows sequence per user. (1 being the first order, 2 being second order and so on)  \n",
    "- `order_dow` (0–6) - Sunday through Saturday\n",
    "- `order_hour_of_day` (0–23) represent timing.  \n",
    "- `days_since_prior_order` The number of days between current order and the user's previous order and has missing values for first orders.  "
   ]
  },
  {
   "cell_type": "code",
   "execution_count": null,
   "id": "556e0311",
   "metadata": {},
   "outputs": [],
   "source": [
    "# Prior order products\n",
    "display(order_prod_prior.head())\n",
    "order_prod_prior.info()\n",
    "order_prod_prior[['add_to_cart_order','reordered']].describe().T\n"
   ]
  },
  {
   "cell_type": "markdown",
   "id": "cdec382b",
   "metadata": {},
   "source": [
    "- Contains product-level details for prior orders.  \n",
    "- `add_to_cart_order` shows position of the product in the user's cart.  \n",
    "- `reordered`: binary (1 if the product was ordered before by the same user, else 0).  \n",
    "- This is the core table for analyzing product-level reorder behavior.  "
   ]
  },
  {
   "cell_type": "code",
   "execution_count": null,
   "id": "fb52d75c",
   "metadata": {},
   "outputs": [],
   "source": [
    "# Products metadata\n",
    "display(products.head())\n",
    "print(\"Unique products:\", products['product_id'].nunique())\n",
    "print(\"Unique aisles:\", aisles['aisle_id'].nunique())\n",
    "print(\"Unique departments:\", departments['department_id'].nunique())\n"
   ]
  },
  {
   "cell_type": "markdown",
   "id": "d1167830",
   "metadata": {},
   "source": [
    "- `products.csv` links products to aisles and departments.  \n",
    "- There are 49,688 unique products, spread across 134 aisles and 21 departments.  \n",
    "- This metadata will be useful for grouping and visualization.  "
   ]
  },
  {
   "cell_type": "markdown",
   "id": "42d4d698",
   "metadata": {},
   "source": [
    "### Missing Values Check"
   ]
  },
  {
   "cell_type": "code",
   "execution_count": null,
   "id": "77405b14",
   "metadata": {},
   "outputs": [],
   "source": [
    "# Missing values across datasets\n",
    "missing_orders = orders.isnull().sum()\n",
    "missing_prior = order_prod_prior.isnull().sum()\n",
    "missing_products = products.isnull().sum()\n",
    "\n",
    "print(\"Missing values in orders:\")\n",
    "print(missing_orders[missing_orders > 0])\n",
    "\n",
    "print(\"\\nMissing values in order_products__prior:\")\n",
    "if (missing_prior[missing_prior > 0]).any():\n",
    "    print(missing_prior[missing_prior > 0])\n",
    "else:\n",
    "    print(\"No missing values\")\n",
    "\n",
    "print(\"\\nMissing values in products:\")\n",
    "if (missing_products[missing_products > 0]).any():\n",
    "    print(missing_products[missing_products > 0])\n",
    "else:\n",
    "    print(\"No missing values\")\n"
   ]
  },
  {
   "cell_type": "markdown",
   "id": "bf5143f9",
   "metadata": {},
   "source": [
    "### Data Visualization\n",
    "This section visualizes user behavior, product demand, and reorder patterns using the PRIOR orders."
   ]
  },
  {
   "cell_type": "markdown",
   "id": "41fb0b6f",
   "metadata": {},
   "source": [
    "Defining the path where the graphs and figures will be stored. "
   ]
  },
  {
   "cell_type": "code",
   "execution_count": null,
   "id": "cb1f750e",
   "metadata": {},
   "outputs": [],
   "source": [
    "FIG_DIR = Path(\"reports/figures\")\n",
    "FIG_DIR.mkdir(parents=True, exist_ok=True)\n",
    "\n",
    "# Using PRIOR orders for EDA\n",
    "orders_prior = orders.loc[orders[\"eval_set\"] == 'prior'].copy()\n",
    "\n",
    "print(\"orders_prior shape:\", orders_prior.shape)\n",
    "print(\"order eval_set value counts:\\n\", orders[\"eval_set\"].value_counts())\n"
   ]
  },
  {
   "cell_type": "markdown",
   "id": "523368e1",
   "metadata": {},
   "source": [
    "### User Behavior\n",
    "#### Orders by Day of Week\n",
    "This plot shows how Instacart orders are distributed across the days of the week. \n",
    "The 'order_dow' variable range from 0-6, where 0 corresponds to Sunday and 6 to Saturday."
   ]
  },
  {
   "cell_type": "code",
   "execution_count": null,
   "id": "51ab0f8b",
   "metadata": {},
   "outputs": [],
   "source": [
    "dow_map = {0: 'Sunday', 1: 'Monday', 2: 'Tuesday', 3: 'Wednesday', \n",
    "           4: 'Thursday', 5: 'Friday', 6: 'Saturday'}\n",
    "\n",
    "dow_counts = (orders_prior['order_dow'].value_counts().sort_index()\n",
    "              .rename_axis('order_dow').reset_index(name='orders'))\n",
    "\n",
    "dow_counts['day'] = dow_counts['order_dow'].map(dow_map)\n",
    "dow_counts['percentage'] = 100 * dow_counts['orders'] / dow_counts['orders'].sum()\n",
    "\n",
    "# Plotting\n",
    "plt.figure(figsize=(8,5))\n",
    "plt.grid(axis='y', linestyle='--', alpha=0.5)\n",
    "plt.grid(axis='x', linestyle='--', alpha=0.5)\n",
    "bars = plt.bar(dow_counts['day'], dow_counts['percentage'],\n",
    "               color = sns.color_palette(\"pastel\"),\n",
    "               edgecolor='black',\n",
    "               width = 0.6)\n",
    "\n",
    "# Annotate bars with percentages\n",
    "for bar, pct in zip(bars, dow_counts['percentage']):\n",
    "    plt.text(bar.get_x() + bar.get_width()/2, bar.get_height() + 0.15, \n",
    "             f'{pct:.1f}%', ha='center', va='bottom', fontsize=9)\n",
    "\n",
    "plt.title('Orders by Day of Week (Prior Orders)', fontsize = 12, weight='bold')\n",
    "plt.xlabel('Day of Week', fontsize = 10)\n",
    "plt.ylabel('Percentage of Orders (%)', fontsize = 10)\n",
    "plt.tight_layout()\n",
    "\n",
    "fig_path = FIG_DIR / \"EDA-01_orders_by_dow.png\"\n",
    "plt.savefig(fig_path, dpi=150)\n",
    "plt.show()"
   ]
  },
  {
   "cell_type": "markdown",
   "id": "943fbd9b",
   "metadata": {},
   "source": [
    "**Interpretation.**  \n",
    "Orders vary noticeably by day of week where most orders occur on Sundays and Mondays,indicating that customers tend to restock groceries at the start of the week.  \n",
    "Order volume slows down from Tuesday through Saturday, suggesting less activity after initial grocery purchase.  \n",
    "\n",
    "This pattern implies that **day-of-week** can serve as an important feature in predictive models—capturing routine behavior and planning cycles in customer purchasing habits."
   ]
  },
  {
   "cell_type": "markdown",
   "id": "cd8837a1",
   "metadata": {},
   "source": [
    "#### Orders by Hour of Day\n",
    "\n",
    "This plot displays how Instacart orders are distributed by the hour of the day (0–23).  \n",
    "Understanding hourly shopping trends helps identify peak activity periods and user engagement patterns.\n"
   ]
  },
  {
   "cell_type": "code",
   "execution_count": null,
   "id": "2f5ead59",
   "metadata": {},
   "outputs": [],
   "source": [
    "# Aggerate total orders by hour of day\n",
    "hour_counts = (orders_prior['order_hour_of_day'].value_counts().sort_index()\n",
    "               .rename_axis('order_hour_of_day').reset_index(name='orders'))\n",
    "\n",
    "hour_counts['percentage'] = 100 * hour_counts['orders'] / hour_counts['orders'].sum()\n",
    "\n",
    "# Plotting\n",
    "plt.figure(figsize=(10,5))\n",
    "plt.grid(axis='y', linestyle='--', alpha=0.5)\n",
    "plt.grid(axis='x', linestyle='--', alpha=0.5)\n",
    "plt.plot(hour_counts['order_hour_of_day'], hour_counts['percentage'],\n",
    "         marker='o', color = \"black\", markersize=6, linewidth=2)\n",
    "plt.fill_between(hour_counts['order_hour_of_day'], hour_counts['percentage'],\n",
    "                 color = sns.color_palette(\"deep\"), alpha=0.7)\n",
    "\n",
    "plt.title('Orders by Hour of Day (Prior Orders)', fontsize = 12, weight='bold')\n",
    "plt.xlabel('Hour of Day (0-23)', fontsize = 10)\n",
    "plt.ylabel('Percentage of Orders (%)', fontsize = 10)\n",
    "plt.xticks(range(0,24))\n",
    "plt.tight_layout()\n",
    "\n",
    "fig_path = FIG_DIR / \"EDA-02_orders_by_hour.png\"\n",
    "plt.savefig(fig_path, dpi=150)\n",
    "plt.show()\n",
    "\n",
    "\n"
   ]
  },
  {
   "cell_type": "markdown",
   "id": "fd66d0ba",
   "metadata": {},
   "source": [
    "**Interpretation.**  \n",
    "Order volume is lowest during late-night hours and rises sharply in the **morning**, peaking between **10 AM and 4 PM**.  After 5 PM, activity declines steadily until 6 AM next day.  \n",
    "\n",
    "This suggests that most users place grocery orders **during midday or early afternoon**, possibly during breaks or after work.  \n",
    "The clear daily rhythm supports using **hour-of-day** as a time-based feature in predictive or recommendation models."
   ]
  },
  {
   "cell_type": "markdown",
   "id": "59d033a7",
   "metadata": {},
   "source": [
    "#### Days Since Prior Order Distribution\n",
    "\n",
    "This plot illustrates the distribution of `days_since_prior_order`, which measures the number of days between a user's current and previous orders. It helps reveal customers' ordering frequency patterns."
   ]
  },
  {
   "cell_type": "code",
   "execution_count": null,
   "id": "331d3f3b",
   "metadata": {},
   "outputs": [],
   "source": [
    "# Excluding the first order (NaN days_since_prior_order)\n",
    "valid_orders = orders_prior.dropna(subset=['days_since_prior_order'])\n",
    "\n",
    "plt.figure(figsize = (8,5))\n",
    "plt.grid(axis='y', linestyle='--', alpha=0.5)\n",
    "plt.grid(axis='x', linestyle='--', alpha=0.5)\n",
    "\n",
    "plt.hist(valid_orders['days_since_prior_order'], \n",
    "         bins = 30, color = sns.color_palette(\"deep\")[0], \n",
    "         edgecolor='black', alpha=0.8)\n",
    "plt.title('Distribution of Days Since Prior Order', fontsize = 12, weight='bold')\n",
    "plt.xlabel('Days Since Prior Order', fontsize = 10)\n",
    "plt.ylabel('Number of Orders', fontsize = 10)\n",
    "plt.xticks(range(0,31))\n",
    "plt.tight_layout()\n",
    "\n",
    "# Save figure\n",
    "fig_path = FIG_DIR / \"EDA-03_days_since_prior_order.png\"\n",
    "plt.savefig(fig_path, dpi=150)  \n",
    "plt.show()\n"
   ]
  },
  {
   "cell_type": "markdown",
   "id": "2d32893c",
   "metadata": {},
   "source": [
    "**Interpretation.**  \n",
    "The distribution shows clear peaks between **7 days - 8 days** and **29 days - 30 days**, suggesting that many customers follow **weekly** or **monthly** grocery cycles.  \n",
    "A long right-tail indicates more number users reordering at those intervals.  \n",
    "\n",
    "This recency pattern will be valuable for feature engineering `days_since_prior_order` or its transformations (e.g., recency bins) can capture user purchase cadence in later models."
   ]
  },
  {
   "cell_type": "markdown",
   "id": "39ae185d",
   "metadata": {},
   "source": [
    "#### Orders per User Distribution\n",
    "\n",
    "This plot shows the distribution of how many orders each user has placed.  \n",
    "It provides insight into customer engagement and repeat shopping behavior.\n"
   ]
  },
  {
   "cell_type": "code",
   "execution_count": null,
   "id": "6407e519",
   "metadata": {},
   "outputs": [],
   "source": [
    "# Count how many orders each user placed\n",
    "user_order_counts = (orders_prior.groupby(\"user_id\")[\"order_number\"]\n",
    "                     .max().reset_index(name = \"total_orders\"))\n",
    "\n",
    "# Create bins\n",
    "bins = np.arange(0, 105, 5)\n",
    "hist, edges = np.histogram(user_order_counts[\"total_orders\"], bins = bins)\n",
    "\n",
    "# Cumulative percentage of total orders per user\n",
    "cumulative = np.cumsum(hist) / user_order_counts.shape[0] * 100\n",
    "\n",
    "fig, ax1 = plt.subplots(figsize = (9,5))\n",
    "plt.grid(axis='y', linestyle='--', alpha=0.5)\n",
    "plt.grid(axis='x', linestyle='--', alpha=0.5)\n",
    "\n",
    "# Plotting Histogram\n",
    "ax1.bar(edges[:-1], hist, width = 4.5, align=\"edge\", \n",
    "        color=\"blue\", edgecolor=\"black\", alpha=0.5)\n",
    "ax1.set_xlabel(\"Total Orders per User (grouped by 5)\", fontsize=10)\n",
    "ax1.set_ylabel(\"Number of Users\", color=\"black\")\n",
    "ax1.tick_params(axis=\"y\", labelcolor=\"black\")\n",
    "ax1.set_title(\"Distribution of User Order Counts\", fontsize=13, weight=\"bold\")\n",
    "\n",
    "# Secondary y-axis for cumulative %\n",
    "ax2 = ax1.twinx()\n",
    "ax2.plot(edges[:-1], cumulative, color=\"red\", marker=\"o\")\n",
    "ax2.set_ylabel(\"Cumulative % of Users\", color=\"black\")\n",
    "ax2.tick_params(axis=\"y\", labelcolor=\"black\")\n",
    "\n",
    "plt.tight_layout()\n",
    "fig_path = FIG_DIR / \"EDA-04_orders_per_user_improved.png\"\n",
    "plt.savefig(fig_path, dpi=150)\n",
    "plt.show()\n"
   ]
  },
  {
   "cell_type": "markdown",
   "id": "ff5263f6",
   "metadata": {},
   "source": [
    "**Interpretation.**  \n",
    "Most users place **fewer than 10 orders**, with over **70% of users** completing fewer than 15.The histogram’s steep left side indicates a large number of casual or first-time shoppers, while the cumulative curve shows that only a small fraction of users are highly active (30+ orders).  \n",
    "This demonstrates a **long-tail user engagement pattern**; a few loyal customers account for many of the total orders. Such insights can inform retention strategies and customer segmentation.\n"
   ]
  },
  {
   "cell_type": "markdown",
   "id": "739f6bf9",
   "metadata": {},
   "source": [
    "### Product Demand\n",
    "#### Top 15 Departments\n",
    "This plot shows which product departments account for the highest share of orders. \n",
    "By joining prior order details with product metadata, we can identify where customer demand is concentrated across broad product categories."
   ]
  },
  {
   "cell_type": "code",
   "execution_count": null,
   "id": "784da01d",
   "metadata": {},
   "outputs": [],
   "source": [
    "# Join order_products_prior with product and department info\n",
    "prior_with_dept = (order_prod_prior\n",
    "                   .merge(products[[\"product_id\", \"department_id\"]], \n",
    "                                          on = \"product_id\",\n",
    "                                          how = \"left\")\n",
    "                                          .merge(departments, on = \"department_id\", \n",
    "                                                 how = \"left\"))\n",
    "# Count number of orders per department for Top 15 frequently ordered products\n",
    "dept_count = (prior_with_dept['department']\n",
    "             .value_counts().head(15)\n",
    "             .rename_axis(\"department\").reset_index(name = 'orders'))\n",
    "\n",
    "# Convert the number of orders per department to percentage\n",
    "dept_count['percentage'] = 100 * dept_count['orders'] / dept_count['orders'].sum()\n",
    "\n",
    "plt.figure(figsize = (9,5))\n",
    "bars = plt.barh(dept_count['department'],\n",
    "                dept_count['percentage'], color = sns.color_palette(\"muted\"),\n",
    "                edgecolor = 'black')\n",
    "\n",
    "plt.title(\"Top 15 Departments by Share of orders\")\n",
    "plt.xlabel(\"Percentage of orders (%)\")\n",
    "plt.ylabel(\"Departments\")\n",
    "plt.gca().invert_yaxis()\n",
    "\n",
    "# Annotate the bars with ordered percentage\n",
    "for bar, pct in zip(bars, dept_count['percentage']):\n",
    "    plt.text(pct + 0.2, bar.get_y() +\n",
    "             bar.get_height()/2, \n",
    "             f\"{pct:.1f}%\",\n",
    "             va = \"center\", fontsize = 7)\n",
    "    \n",
    "plt.tight_layout()\n",
    "plt.show()\n",
    "\n",
    "# Save the fig\n",
    "fig_path = FIG_DIR/\"EDA-05_top_department.png\"\n",
    "plt.savefig(fig_path, dpi = 150)\n"
   ]
  },
  {
   "cell_type": "markdown",
   "id": "8b68560b",
   "metadata": {},
   "source": [
    "**Interpretation.**\n",
    "\n",
    "The **Produce** department dominates Instacart orders, followed by **Dairy eggs**, **snakes** ,and **beverages**. This indicates that users primarily shop for fresh essential and daily use items. \n",
    "The high presence of Produce department highlights Instacart's core grocery focus, while smaller departments like babies represent niche shopping categories."
   ]
  },
  {
   "cell_type": "markdown",
   "id": "f4b79d02",
   "metadata": {},
   "source": [
    "#### Top 15 Aisles by Share of orders\n",
    "Aisles represent finer_grained product groupings within departments. The tree map visualizes the 15 aisles with the highest order volume, where each rectangle's area corresponds to its share of all prior order line items."
   ]
  },
  {
   "cell_type": "code",
   "execution_count": null,
   "id": "b7c26d9d",
   "metadata": {},
   "outputs": [],
   "source": [
    "import squarify\n",
    "import textwrap\n",
    "\n",
    "# Join order_product_prior with product and aisle info\n",
    "prior_with_aisle = (order_prod_prior.merge(products[['product_id', 'aisle_id']],\n",
    "                                           on = 'product_id', how = 'left')\n",
    "                                           .merge(aisles, on = 'aisle_id',\n",
    "                                                  how = 'left'))\n",
    "# Aggregate top 15 aisles\n",
    "\n",
    "aisle_counts = (prior_with_aisle['aisle'].value_counts().head(15)\n",
    "                .rename_axis(\"aisle\").reset_index(name = \"orders\"))\n",
    "aisle_counts['percentage'] = 100 * aisle_counts['orders'] / aisle_counts['orders'].sum()\n",
    "\n",
    "def short(s, n = 18):\n",
    "    return s if len(s) <= n else s[:n-1] + \"...\"\n",
    "labels = [f\"{short(a)}\\n{p:.1f}%\" for a, p in zip(aisle_counts['aisle'], aisle_counts['percentage'])]\n",
    "\n",
    "# Build tree map\n",
    "\n",
    "plt.figure(figsize = (10,8))\n",
    "squarify.plot(sizes = aisle_counts['orders'],\n",
    "              label = labels,\n",
    "              alpha = 0.5, color = sns.color_palette('viridis', n_colors = 15), edgecolor = 'black', pad = 0.25,\n",
    "              \n",
    "              text_kwargs = dict(fontsize = 10) )\n",
    "\n",
    "plt.title(\"Top 15 Aisles by Share of orders\", fontsize = 12, weight = 'bold')\n",
    "plt.tight_layout()\n",
    "plt.show()"
   ]
  },
  {
   "cell_type": "markdown",
   "id": "5c5a84c7",
   "metadata": {},
   "source": [
    "**Interpretation.**  \n",
    "The treemap shows that **Fresh Vegetables**, **Fresh Fruits**, and **Packaged Vegetables & Fruits** dominate aisle-level demand, together accounting for the largest portion of orders. Smaller tiles like **Yogurt**, **Soft Drinks**, and **Cereal** indicate strong but secondary categories.  \n",
    "\n",
    "This emphasizes Instacart’s heavy focus on **fresh produce** and **daily essentials**, while niche aisles contribute less to total order volume. The visualization helps identify which aisles could benefit most from targeted promotions or personalized recommendations.\n"
   ]
  },
  {
   "cell_type": "markdown",
   "id": "57ffccdd",
   "metadata": {},
   "source": [
    "#### Top 15 Products by Frequency\n",
    "\n",
    "This plot shows the 15 most frequently ordered products. It highlights the high-volume staples that define user demand at the product level.\n"
   ]
  },
  {
   "cell_type": "code",
   "execution_count": null,
   "id": "3d55631d",
   "metadata": {},
   "outputs": [],
   "source": [
    "# Join prior orders with product names\n",
    "\n",
    "prior_with_product = order_prod_prior.merge(\n",
    "    products[[\"product_id\", \"product_name\"]], on=\"product_id\", how=\"left\"\n",
    ")\n",
    "\n",
    "# Aggregate top 15 products\n",
    "top_products = (\n",
    "    prior_with_product[\"product_name\"]\n",
    "    .value_counts()\n",
    "    .head(15)\n",
    "    .rename_axis(\"product_name\")\n",
    "    .reset_index(name=\"orders\")\n",
    ")\n",
    "top_products[\"percentage\"] = 100 * top_products[\"orders\"] / top_products[\"orders\"].sum()\n",
    "\n",
    "# Plot\n",
    "plt.figure(figsize=(11, 5))\n",
    "bars = plt.barh(top_products[\"product_name\"], top_products[\"orders\"],\n",
    "                color= sns.color_palette(\"dark\"), edgecolor=\"black\", alpha = 0.5)\n",
    "plt.gca().invert_yaxis()   # show highest on top\n",
    "plt.title(\"Top 15 Products by Order Frequency\", fontsize=13, weight=\"bold\")\n",
    "plt.xlabel(\"Number of Orders\")\n",
    "plt.ylabel(\"Product Name\")\n",
    "plt.yticks(fontsize = 8)\n",
    "\n",
    "# Annotate bars\n",
    "for bar, val in zip(bars, top_products[\"orders\"]):\n",
    "    plt.text(val + 2000, bar.get_y() + bar.get_height()/2,\n",
    "             f\"{val:,}\", va=\"center\", fontsize=7)\n",
    "\n",
    "plt.tight_layout()\n",
    "\n",
    "# Save\n",
    "fig_path = FIG_DIR / \"EDA-07_top_products.png\"\n",
    "plt.savefig(fig_path, dpi=150)\n",
    "plt.show()\n"
   ]
  },
  {
   "cell_type": "markdown",
   "id": "fcf63e1b",
   "metadata": {},
   "source": [
    "**Interpretation.**  \n",
    "The results confirm a strong dominance of everyday staples such as **Bananas**, **Organic Strawberries**, and **Organic Baby Spinach**.  \n",
    "These fresh produce items lead Instacart’s overall product frequency, underscoring that users primarily use the platform for recurring grocery basics.  \n",
    "\n",
    "This top-products list also guides feature engineering — e.g., **product-level popularity scores** or **baseline reorder probabilities** can be derived from these counts."
   ]
  },
  {
   "cell_type": "markdown",
   "id": "db2213f6",
   "metadata": {},
   "source": [
    "### Reorder Patterns\n",
    "#### Reorder Rate Day of the Week\n",
    "The reorder rate is calculated as the share of line-items where `reordered = 1`.  \n",
    "By examining it across the day of week, we can detect weekly rhythms in user loyalty and replenishment behavior."
   ]
  }
 ],
 "metadata": {
  "kernelspec": {
   "display_name": ".venv",
   "language": "python",
   "name": "python3"
  },
  "language_info": {
   "codemirror_mode": {
    "name": "ipython",
    "version": 3
   },
   "file_extension": ".py",
   "mimetype": "text/x-python",
   "name": "python",
   "nbconvert_exporter": "python",
   "pygments_lexer": "ipython3",
   "version": "3.13.1"
  }
 },
 "nbformat": 4,
 "nbformat_minor": 5
}
