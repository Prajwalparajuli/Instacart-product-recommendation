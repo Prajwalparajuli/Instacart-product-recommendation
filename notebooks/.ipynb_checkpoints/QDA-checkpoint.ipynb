{
 "cells": [
  {
   "cell_type": "code",
   "execution_count": 1,
   "id": "fb890bab-1b2d-4aa7-a740-bda6515f8721",
   "metadata": {},
   "outputs": [
    {
     "name": "stdout",
     "output_type": "stream",
     "text": [
      "C:\\Users\\phung\\Documents\\DATA 4419\\Instacart-product-recommendation\\notebooks\n"
     ]
    }
   ],
   "source": [
    "import pandas as pd\n",
    "from pathlib import Path\n",
    "import os\n",
    "from IPython.core.interactiveshell import InteractiveShell\n",
    "InteractiveShell.ast_node_interactivity = 'all'\n",
    "parent_dir = os.path.dirname(r\"C:\\Users\\phung\\Documents\\DATA 4419\\Instacart-product-recommendation\\notebooks\")\n",
    "print(os.getcwd())"
   ]
  },
  {
   "cell_type": "code",
   "execution_count": 2,
   "id": "0416cab4-659e-4f30-8c00-d845bc26eabf",
   "metadata": {},
   "outputs": [],
   "source": [
    "project_root = Path.cwd().parent  \n",
    "data_path = project_root / \"csv_files\"\n",
    "RAW = Path(\"../data/raw/\")\n",
    "PROCESSED = Path(\"data/processed\")\n",
    "PROCESSED.mkdir(parents = True, exist_ok = True)\n"
   ]
  },
  {
   "cell_type": "markdown",
   "id": "06a37d0c-80f8-484e-a7be-0496fc76b5a2",
   "metadata": {},
   "source": [
    "Splits the orders DataFrame into three separate DataFrames based on the 'eval_set' column:\n",
    "    * orders_prior: all rows where eval_set == 'prior'\n",
    "    * orders_train: all rows where eval_set == 'train'\n",
    "    * orders_test: all rows where eval_set == 'test'\n",
    "    Only the key columns needed for analysis are kept in each output DataFrame.\n",
    "    Returns: orders_prior, orders_train, orders_test (DataFrames)"
   ]
  },
  {
   "cell_type": "code",
   "execution_count": 15,
   "id": "8ca0075e-bb46-4554-b6aa-3393d81b19c5",
   "metadata": {},
   "outputs": [],
   "source": [
    "def split_orders_by_eval_set(orders): \n",
    "    columns = [\n",
    "        \"order_id\", \"user_id\", \"order_number\",\n",
    "        \"order_dow\", \"order_hour_of_day\", \"days_since_prior_order\"]\n",
    "    orders_prior = orders[orders[\"eval_set\"] == \"prior\"][columns]\n",
    "    orders_train = orders[orders[\"eval_set\"] == \"train\"][columns]\n",
    "    orders_test = orders[orders[\"eval_set\"] == \"test\"][columns]\n",
    "    return orders_prior, orders_train, orders_test"
   ]
  },
  {
   "cell_type": "markdown",
   "id": "8821ca4c-b87d-4178-a5c0-85bbaefc8a50",
   "metadata": {},
   "source": [
    "Loads all six Instacart CSVs from the data/raw/ directory into pandas DataFrames with memoery efficient dtypes.\n",
    "\n",
    "Performs initial safety checks and prints summary statistics for the orders DataFrame.\n",
    "\n",
    "Returns:\n",
    "    A dictionary containing all loaded DataFrames: orders, op_prior, op_train, products, aisles, departments."
   ]
  },
  {
   "cell_type": "code",
   "execution_count": 41,
   "id": "2497093d-baae-4828-9b8d-73d1692142cc",
   "metadata": {},
   "outputs": [],
   "source": [
    "def load_all_data(raw_path):\n",
    "    op_dtype = {\"order_id\": \"int32\",\n",
    "                \"product_id\": \"int32\",\n",
    "                \"add_to_cart_order\": \"int16\",\n",
    "                \"reordered\": \"int8\"}\n",
    "    \n",
    "    orders = pd.read_csv(raw_path / \"orders.csv\",\n",
    "        dtype = {\"order_id\":\"int32\",\n",
    "            \"user_id\":\"int32\",\n",
    "            \"order_number\":\"int16\",\n",
    "            \"order_dow\":\"int8\",\n",
    "            \"order_hour_of_day\":\"int8\"\n",
    "        },\n",
    "        keep_default_na = True,\n",
    "    )\n",
    "    orders[\"eval_set\"] = orders[\"eval_set\"].astype(str).str.lower()\n",
    "\n",
    "    if \"days_since_prior_order\" in orders.columns:\n",
    "        orders[\"days_since_prior_order\"] = pd.to_numeric(\n",
    "        orders[\"days_since_prior_order\"], errors = \"coerce\").astype(\"float32\")\n",
    "\n",
    "    op_prior = pd.read_csv(raw_path / \"order_products__prior.csv\", dtype=op_dtype)\n",
    "    op_train = pd.read_csv(raw_path / \"order_products__train.csv\", dtype=op_dtype)\n",
    "\n",
    "    products = pd.read_csv(raw_path / \"products.csv\")\n",
    "    aisles = pd.read_csv(raw_path / \"aisles.csv\")\n",
    "    departments = pd.read_csv(raw_path / \"departments.csv\")\n",
    "\n",
    "    # return all necessary DataFrames from the function\n",
    "    return {\n",
    "        \"orders\": orders,\n",
    "        \"op_prior\": op_prior,\n",
    "        \"op_train\": op_train,\n",
    "        \"products\": products,\n",
    "        \"aisles\": aisles,\n",
    "        \"departments\": departments\n",
    "    }"
   ]
  },
  {
   "cell_type": "markdown",
   "id": "992b20e5-dd11-4529-b88a-77f018c14b56",
   "metadata": {},
   "source": [
    "Splits the orders DataFrame into prior, train, and test sets, then merges prior orders with order_products__prior.csv\n",
    "to create a line-item table (prior) with user and order context for each product in prior orders."
   ]
  },
  {
   "cell_type": "code",
   "execution_count": 17,
   "id": "f95c4fbd-9134-413d-bd19-7c5d717588a9",
   "metadata": {},
   "outputs": [],
   "source": [
    "def build_prior_line_items(dfs):\n",
    "    orders = dfs[\"orders\"]\n",
    "    op_prior = dfs[\"op_prior\"]\n",
    "\n",
    "    # Split the orders DataFrame into prior, train, and test sets using the helper function\n",
    "    orders_prior, orders_train, orders_test = split_orders_by_eval_set(orders)\n",
    "    \n",
    "    prior = op_prior.merge(\n",
    "        orders_prior,\n",
    "        on = \"order_id\",\n",
    "        how = \"inner\")\n",
    "    return prior, orders_prior, orders_train, orders_test\n"
   ]
  },
  {
   "cell_type": "code",
   "execution_count": 43,
   "id": "2bcbe895-f6ce-43ea-a7c0-6f4b7b62f631",
   "metadata": {},
   "outputs": [],
   "source": [
    "all_data = load_all_data(RAW)\n",
    "orders = all_data[\"orders\"]\n",
    "op_train = all_data[\"op_train\"]\n",
    "prior, orders_prior, orders_train, orders_test = build_prior_line_items(all_data)"
   ]
  },
  {
   "cell_type": "code",
   "execution_count": 21,
   "id": "a63765d2-bb8a-438b-907c-8a90018a71a4",
   "metadata": {},
   "outputs": [
    {
     "data": {
      "text/plain": [
       "order_id                       0\n",
       "user_id                        0\n",
       "order_number                   0\n",
       "order_dow                      0\n",
       "order_hour_of_day              0\n",
       "days_since_prior_order    206209\n",
       "dtype: int64"
      ]
     },
     "execution_count": 21,
     "metadata": {},
     "output_type": "execute_result"
    },
    {
     "data": {
      "text/plain": [
       "np.int64(0)"
      ]
     },
     "execution_count": 21,
     "metadata": {},
     "output_type": "execute_result"
    },
    {
     "data": {
      "text/plain": [
       "order_id                    int32\n",
       "user_id                     int32\n",
       "order_number                int16\n",
       "order_dow                    int8\n",
       "order_hour_of_day            int8\n",
       "days_since_prior_order    float32\n",
       "dtype: object"
      ]
     },
     "execution_count": 21,
     "metadata": {},
     "output_type": "execute_result"
    },
    {
     "data": {
      "text/plain": [
       "3214874"
      ]
     },
     "execution_count": 21,
     "metadata": {},
     "output_type": "execute_result"
    },
    {
     "data": {
      "text/plain": [
       "3214874"
      ]
     },
     "execution_count": 21,
     "metadata": {},
     "output_type": "execute_result"
    },
    {
     "data": {
      "text/plain": [
       "np.int16(1)"
      ]
     },
     "execution_count": 21,
     "metadata": {},
     "output_type": "execute_result"
    },
    {
     "data": {
      "text/plain": [
       "np.int16(99)"
      ]
     },
     "execution_count": 21,
     "metadata": {},
     "output_type": "execute_result"
    },
    {
     "data": {
      "text/plain": [
       "(3214874, 6)"
      ]
     },
     "execution_count": 21,
     "metadata": {},
     "output_type": "execute_result"
    },
    {
     "data": {
      "text/plain": [
       "(131209, 6)"
      ]
     },
     "execution_count": 21,
     "metadata": {},
     "output_type": "execute_result"
    },
    {
     "data": {
      "text/plain": [
       "(75000, 6)"
      ]
     },
     "execution_count": 21,
     "metadata": {},
     "output_type": "execute_result"
    },
    {
     "data": {
      "text/plain": [
       "(32434489, 9)"
      ]
     },
     "execution_count": 21,
     "metadata": {},
     "output_type": "execute_result"
    }
   ],
   "source": [
    "orders_prior.isnull().sum()\n",
    "orders_prior.duplicated().sum()\n",
    "orders_prior.dtypes\n",
    "orders_prior['order_id'].nunique()\n",
    "len(orders_prior)\n",
    "orders_prior['order_number'].min()\n",
    "orders_prior['order_number'].max()\n",
    "\n",
    "orders_prior.shape\n",
    "orders_train.shape\n",
    "orders_test.shape\n",
    "prior.shape"
   ]
  },
  {
   "cell_type": "markdown",
   "id": "2c861ed7-0481-4e19-be76-583e9ef7f5a0",
   "metadata": {},
   "source": [
    "Main workflow for the script. Loads all data, prints summary, builds core tables, and optionally saves processed results.\n",
    "    Args: save_processed (bool): If True, saves the processed DataFrames to disk."
   ]
  },
  {
   "cell_type": "code",
   "execution_count": 29,
   "id": "ad8d95c3-e6bf-4a29-95e0-2b1248277a0f",
   "metadata": {},
   "outputs": [
    {
     "name": "stdout",
     "output_type": "stream",
     "text": [
      "orders: shape = (3421083, 7), columns = ['order_id', 'user_id', 'eval_set', 'order_number', 'order_dow', 'order_hour_of_day', 'days_since_prior_order']\n",
      "op_prior: shape = (32434489, 4), columns = ['order_id', 'product_id', 'add_to_cart_order', 'reordered']\n",
      "op_train: shape = (1384617, 4), columns = ['order_id', 'product_id', 'add_to_cart_order', 'reordered']\n",
      "products: shape = (49688, 4), columns = ['product_id', 'product_name', 'aisle_id', 'department_id']\n",
      "aisles: shape = (134, 2), columns = ['aisle_id', 'aisle']\n",
      "departments: shape = (21, 2), columns = ['department_id', 'department']\n"
     ]
    }
   ],
   "source": [
    "def main(save_processed = False): \n",
    "    dfs = load_all_data(RAW)\n",
    "\n",
    "    for k, v in dfs.items():\n",
    "        print(f\"{k}: shape = {v.shape}, columns = {v.columns.tolist()}\") # k is key, v is DataFrame\n",
    "    # merge prior orders with prior products\n",
    "    prior, orders_prior, orders_train, orders_test = build_prior_line_items(dfs)\n",
    "\n",
    "    # Get op_train from loaded data\n",
    "    op_train = dfs[\"op_train\"] \n",
    "    if save_processed:\n",
    "        prior.to_csv(PROCESSED / \"prior_line_items_merged.csv\", index = False)\n",
    "        print(f\"Processed data saved to {PROCESSED}\")\n",
    "\n",
    "main(save_processed = False)"
   ]
  },
  {
   "cell_type": "code",
   "execution_count": 22,
   "id": "ab589a11-e4a5-48ac-87df-922944818ab8",
   "metadata": {},
   "outputs": [
    {
     "name": "stdout",
     "output_type": "stream",
     "text": [
      "Saved user features to data/processed/ql_user_features.csv\n",
      "   user_id  u_total_orders  u_total_items  u_distinct_products  \\\n",
      "0        1              10             59                   18   \n",
      "1        2              14            195                  102   \n",
      "2        3              12             88                   33   \n",
      "3        4               5             18                   17   \n",
      "4        5               4             37                   23   \n",
      "\n",
      "   u_avg_basket_size  u_reorder_ratio  u_mean_days_between  u_std_days_between  \n",
      "0           5.900000         0.694915            20.259260            9.304462  \n",
      "1          13.928571         0.476923            15.967033            9.119768  \n",
      "2           7.333333         0.625000            11.487180            4.869048  \n",
      "3           3.600000         0.055556            15.357142            8.580901  \n",
      "4           9.250000         0.378378            14.500000            4.263801  \n"
     ]
    }
   ],
   "source": [
    "# Build user features from prior only\n",
    "user_grp = prior.groupby(\"user_id\")\n",
    "user_features = pd.DataFrame({\n",
    "    # User ID\n",
    "    \"user_id\": user_grp[\"user_id\"].first(),\n",
    "    # Total number of orders for each user\n",
    "    \"u_total_orders\": user_grp[\"order_number\"].max(),\n",
    "    # Total number of items ordered by each user\n",
    "    \"u_total_items\": user_grp[\"product_id\"].count(),\n",
    "    # Number of distinct products ordered by each user\n",
    "    \"u_distinct_products\": user_grp[\"product_id\"].nunique(),\n",
    "    # Average basket size: items per unique order\n",
    "    \"u_avg_basket_size\": user_grp[\"order_id\"].count() / user_grp[\"order_id\"].nunique(),\n",
    "    # Reorder ratio: mean of reordered flag (0 if not present)\n",
    "    \"u_reorder_ratio\": user_grp[\"reordered\"].mean().fillna(0),\n",
    "    # Mean days between orders (ignoring NaNs)\n",
    "    \"u_mean_days_between\": user_grp[\"days_since_prior_order\"].mean(),\n",
    "    # Std dev of days between orders (ignoring NaNs)\n",
    "    \"u_std_days_between\": user_grp[\"days_since_prior_order\"].std()\n",
    "    })\n",
    "\n",
    "user_features = user_features.reset_index(drop = True)\n",
    "user_features.to_csv(PROCESSED / \"ql_user_features.csv\", index = False)\n",
    "print(\"Saved user features to data/processed/ql_user_features.csv\")\n",
    "user_features.head()"
   ]
  },
  {
   "cell_type": "code",
   "execution_count": 58,
   "id": "92380e05-8dc9-4402-804b-102883685a71",
   "metadata": {},
   "outputs": [
    {
     "name": "stdout",
     "output_type": "stream",
     "text": [
      "Saved product features to data/processed/ql_product_features.csv\n"
     ]
    },
    {
     "data": {
      "text/html": [
       "<div>\n",
       "<style scoped>\n",
       "    .dataframe tbody tr th:only-of-type {\n",
       "        vertical-align: middle;\n",
       "    }\n",
       "\n",
       "    .dataframe tbody tr th {\n",
       "        vertical-align: top;\n",
       "    }\n",
       "\n",
       "    .dataframe thead th {\n",
       "        text-align: right;\n",
       "    }\n",
       "</style>\n",
       "<table border=\"1\" class=\"dataframe\">\n",
       "  <thead>\n",
       "    <tr style=\"text-align: right;\">\n",
       "      <th></th>\n",
       "      <th>product_id</th>\n",
       "      <th>p_total_purchases</th>\n",
       "      <th>p_distinct_users</th>\n",
       "      <th>p_avg_add_to_cart</th>\n",
       "      <th>p_reorder_prob</th>\n",
       "    </tr>\n",
       "  </thead>\n",
       "  <tbody>\n",
       "    <tr>\n",
       "      <th>0</th>\n",
       "      <td>1</td>\n",
       "      <td>1852</td>\n",
       "      <td>716</td>\n",
       "      <td>5.801836</td>\n",
       "      <td>0.613391</td>\n",
       "    </tr>\n",
       "    <tr>\n",
       "      <th>1</th>\n",
       "      <td>2</td>\n",
       "      <td>90</td>\n",
       "      <td>78</td>\n",
       "      <td>9.888889</td>\n",
       "      <td>0.133333</td>\n",
       "    </tr>\n",
       "    <tr>\n",
       "      <th>2</th>\n",
       "      <td>3</td>\n",
       "      <td>277</td>\n",
       "      <td>74</td>\n",
       "      <td>6.415162</td>\n",
       "      <td>0.732852</td>\n",
       "    </tr>\n",
       "    <tr>\n",
       "      <th>3</th>\n",
       "      <td>4</td>\n",
       "      <td>329</td>\n",
       "      <td>182</td>\n",
       "      <td>9.507599</td>\n",
       "      <td>0.446809</td>\n",
       "    </tr>\n",
       "    <tr>\n",
       "      <th>4</th>\n",
       "      <td>5</td>\n",
       "      <td>15</td>\n",
       "      <td>6</td>\n",
       "      <td>6.466667</td>\n",
       "      <td>0.600000</td>\n",
       "    </tr>\n",
       "  </tbody>\n",
       "</table>\n",
       "</div>"
      ],
      "text/plain": [
       "   product_id  p_total_purchases  p_distinct_users  p_avg_add_to_cart  \\\n",
       "0           1               1852               716           5.801836   \n",
       "1           2                 90                78           9.888889   \n",
       "2           3                277                74           6.415162   \n",
       "3           4                329               182           9.507599   \n",
       "4           5                 15                 6           6.466667   \n",
       "\n",
       "   p_reorder_prob  \n",
       "0        0.613391  \n",
       "1        0.133333  \n",
       "2        0.732852  \n",
       "3        0.446809  \n",
       "4        0.600000  "
      ]
     },
     "execution_count": 58,
     "metadata": {},
     "output_type": "execute_result"
    }
   ],
   "source": [
    "# Build product features from prior only\n",
    "product_grp = prior.groupby(\"product_id\")\n",
    "product_features = pd.DataFrame({\n",
    "    \"product_id\": product_grp[\"product_id\"].first(),\n",
    "    \"p_total_purchases\": product_grp[\"order_id\"].count(),\n",
    "    \"p_distinct_users\": product_grp[\"user_id\"].nunique(),\n",
    "    \"p_avg_add_to_cart\": product_grp[\"add_to_cart_order\"].mean(),\n",
    "    \"p_reorder_prob\": product_grp[\"reordered\"].mean().fillna(0)\n",
    "    })\n",
    "\n",
    "# reset index so that product_id is column, not index\n",
    "product_features = product_features.reset_index(drop = True)\n",
    "\n",
    "product_features.to_csv(PROCESSED / \"ql_product_features.csv\", index=False)\n",
    "print(\"Saved product features to data/processed/ql_product_features.csv\")\n",
    "product_features.head()"
   ]
  },
  {
   "cell_type": "code",
   "execution_count": 54,
   "id": "4c1f04a8-d94f-4520-9839-10d72a86912e",
   "metadata": {},
   "outputs": [],
   "source": [
    "# Build user-product features from prior only\n",
    "up_grp = prior.groupby([\"user_id\", \"product_id\"])\n",
    "up_features = pd.DataFrame({\n",
    "    \"user_id\": up_grp[\"user_id\"].first(),\n",
    "    \"product_id\": up_grp[\"product_id\"].first(),\n",
    "    \"up_times_bought\": up_grp[\"order_id\"].count(),\n",
    "    \"up_last_order_number\": up_grp[\"order_number\"].max(),\n",
    "    \"up_first_order_number\": up_grp[\"order_number\"].min(),\n",
    "    \"up_avg_add_to_cart\": up_grp[\"add_to_cart_order\"].mean()\n",
    "})\n",
    "\n",
    "# reset index so up_features is column, not index\n",
    "up_features = up_features.reset_index(drop = True)\n"
   ]
  },
  {
   "cell_type": "code",
   "execution_count": 55,
   "id": "be1c5257-2b46-4159-b7f9-1182db0cdcba",
   "metadata": {},
   "outputs": [],
   "source": [
    "# Compute recency\n",
    "u_last_prior_order = prior.groupby(\"user_id\")[\"order_number\"].max()\n",
    "\n",
    "# map() to look my max order number for every user_id in up_features\n",
    "up_features[\"u_last_prior_order\"] = up_features[\"user_id\"].map(u_last_prior_order)\n",
    "\n",
    "# calculate recency using column subtraction\n",
    "up_features[\"up_recency\"] = up_features[\"u_last_prior_order\"] - up_features[\"up_last_order_number\"]\n"
   ]
  },
  {
   "cell_type": "code",
   "execution_count": 56,
   "id": "1d70aebc-d8eb-430d-9ba6-841ad9db4aa0",
   "metadata": {},
   "outputs": [
    {
     "name": "stdout",
     "output_type": "stream",
     "text": [
      "Saved user-product features to data/processed/ql_user_product_features_prior.csv\n"
     ]
    },
    {
     "data": {
      "text/html": [
       "<div>\n",
       "<style scoped>\n",
       "    .dataframe tbody tr th:only-of-type {\n",
       "        vertical-align: middle;\n",
       "    }\n",
       "\n",
       "    .dataframe tbody tr th {\n",
       "        vertical-align: top;\n",
       "    }\n",
       "\n",
       "    .dataframe thead th {\n",
       "        text-align: right;\n",
       "    }\n",
       "</style>\n",
       "<table border=\"1\" class=\"dataframe\">\n",
       "  <thead>\n",
       "    <tr style=\"text-align: right;\">\n",
       "      <th></th>\n",
       "      <th>user_id</th>\n",
       "      <th>product_id</th>\n",
       "      <th>up_times_bought</th>\n",
       "      <th>up_last_order_number</th>\n",
       "      <th>up_first_order_number</th>\n",
       "      <th>up_avg_add_to_cart</th>\n",
       "      <th>u_last_prior_order</th>\n",
       "      <th>up_recency</th>\n",
       "      <th>user_total_bought</th>\n",
       "      <th>up_rate_in_user_history</th>\n",
       "    </tr>\n",
       "  </thead>\n",
       "  <tbody>\n",
       "    <tr>\n",
       "      <th>0</th>\n",
       "      <td>1</td>\n",
       "      <td>196</td>\n",
       "      <td>10</td>\n",
       "      <td>10</td>\n",
       "      <td>1</td>\n",
       "      <td>1.400000</td>\n",
       "      <td>10</td>\n",
       "      <td>0</td>\n",
       "      <td>59</td>\n",
       "      <td>0.169492</td>\n",
       "    </tr>\n",
       "    <tr>\n",
       "      <th>1</th>\n",
       "      <td>1</td>\n",
       "      <td>10258</td>\n",
       "      <td>9</td>\n",
       "      <td>10</td>\n",
       "      <td>2</td>\n",
       "      <td>3.333333</td>\n",
       "      <td>10</td>\n",
       "      <td>0</td>\n",
       "      <td>59</td>\n",
       "      <td>0.152542</td>\n",
       "    </tr>\n",
       "    <tr>\n",
       "      <th>2</th>\n",
       "      <td>1</td>\n",
       "      <td>10326</td>\n",
       "      <td>1</td>\n",
       "      <td>5</td>\n",
       "      <td>5</td>\n",
       "      <td>5.000000</td>\n",
       "      <td>10</td>\n",
       "      <td>5</td>\n",
       "      <td>59</td>\n",
       "      <td>0.016949</td>\n",
       "    </tr>\n",
       "    <tr>\n",
       "      <th>3</th>\n",
       "      <td>1</td>\n",
       "      <td>12427</td>\n",
       "      <td>10</td>\n",
       "      <td>10</td>\n",
       "      <td>1</td>\n",
       "      <td>3.300000</td>\n",
       "      <td>10</td>\n",
       "      <td>0</td>\n",
       "      <td>59</td>\n",
       "      <td>0.169492</td>\n",
       "    </tr>\n",
       "    <tr>\n",
       "      <th>4</th>\n",
       "      <td>1</td>\n",
       "      <td>13032</td>\n",
       "      <td>3</td>\n",
       "      <td>10</td>\n",
       "      <td>2</td>\n",
       "      <td>6.333333</td>\n",
       "      <td>10</td>\n",
       "      <td>0</td>\n",
       "      <td>59</td>\n",
       "      <td>0.050847</td>\n",
       "    </tr>\n",
       "  </tbody>\n",
       "</table>\n",
       "</div>"
      ],
      "text/plain": [
       "   user_id  product_id  up_times_bought  up_last_order_number  \\\n",
       "0        1         196               10                    10   \n",
       "1        1       10258                9                    10   \n",
       "2        1       10326                1                     5   \n",
       "3        1       12427               10                    10   \n",
       "4        1       13032                3                    10   \n",
       "\n",
       "   up_first_order_number  up_avg_add_to_cart  u_last_prior_order  up_recency  \\\n",
       "0                      1            1.400000                  10           0   \n",
       "1                      2            3.333333                  10           0   \n",
       "2                      5            5.000000                  10           5   \n",
       "3                      1            3.300000                  10           0   \n",
       "4                      2            6.333333                  10           0   \n",
       "\n",
       "   user_total_bought  up_rate_in_user_history  \n",
       "0                 59                 0.169492  \n",
       "1                 59                 0.152542  \n",
       "2                 59                 0.016949  \n",
       "3                 59                 0.169492  \n",
       "4                 59                 0.050847  "
      ]
     },
     "execution_count": 56,
     "metadata": {},
     "output_type": "execute_result"
    }
   ],
   "source": [
    "# Compute rate in user history\n",
    "#calculate total items bought per customer\n",
    "user_total_bought_series = up_features.groupby(\"user_id\")[\"up_times_bought\"].sum()\n",
    "\n",
    "# map the total sum back onto the up_features table using user_id\n",
    "up_features[\"user_total_bought\"] = up_features[\"user_id\"].map(user_total_bought_series)\n",
    "\n",
    "# final rate calculation\n",
    "up_features[\"up_rate_in_user_history\"] = (\n",
    "    up_features[\"up_times_bought\"] / up_features[\"user_total_bought\"])\n",
    "\n",
    "up_features.to_csv(PROCESSED / \"ql_user_product_features_prior.csv\", index = False)\n",
    "print(\"Saved user-product features to data/processed/ql_user_product_features_prior.csv\")\n",
    "up_features.head()"
   ]
  },
  {
   "cell_type": "code",
   "execution_count": 45,
   "id": "cae440ec-27c7-4e89-bc49-b49842c33171",
   "metadata": {},
   "outputs": [],
   "source": [
    "# Build train candidates\n",
    "# op_train contains all products actually bought in train orders\n",
    "# We merge with orders_train to get user_id for each order\n",
    "train_labels = op_train.merge(\n",
    "    orders_train[[\"order_id\", \"user_id\"]],\n",
    "    on = \"order_id\",\n",
    "    how = \"left\"\n",
    "    )\n",
    "\n",
    "# Assign label=1 for these actual purchases\n",
    "train_labels[\"label\"] = 1\n",
    "# Only keep necessary columns for labeling\n",
    "train_labels = train_labels[[\"order_id\", \"user_id\", \"product_id\", \"label\"]]"
   ]
  },
  {
   "cell_type": "markdown",
   "id": "dc127236-adcc-4e58-b68d-848d4d0f0bd5",
   "metadata": {},
   "source": [
    "For each train order, we want to predict which products the user will buy.\n",
    "To do this, we consider all products the user has bought in prior orders as candidates."
   ]
  },
  {
   "cell_type": "code",
   "execution_count": 57,
   "id": "629bc961-a702-4016-9ea9-9f99358ae343",
   "metadata": {},
   "outputs": [],
   "source": [
    "#user_prior_products: dict mapping user_id to array of product_ids they've bought before.\n",
    "user_prior_products = prior.groupby(\"user_id\")[\"product_id\"].unique()\n",
    "candidate_rows = []\n",
    "\n",
    "# Loop through each train order\n",
    "for _, order in orders_train.iterrows():\n",
    "    user_id = order[\"user_id\"]\n",
    "    order_id = order[\"order_id\"]\n",
    "\n",
    "# Context features for this order (day of week, hour, days since prior)\n",
    "context = order[[\"order_dow\", \"order_hour_of_day\", \"days_since_prior_order\"]]\n",
    "# Get all prior products for this user\n",
    "products = user_prior_products.get(user_id, [])\n",
    "# For each prior product, create a candidate row\n",
    "for product_id in products:\n",
    "    row = {\n",
    "    \"order_id\": order_id,\n",
    "    \"user_id\": user_id,\n",
    "    \"product_id\": product_id,\n",
    "    \"order_dow\": context[\"order_dow\"],\n",
    "    \"order_hour_of_day\": context[\"order_hour_of_day\"],\n",
    "    \"days_since_prior_order\": context[\"days_since_prior_order\"]\n",
    "    }\n",
    "candidate_rows.append(row)"
   ]
  },
  {
   "cell_type": "code",
   "execution_count": 59,
   "id": "b594a1ea-29e8-44c4-b160-42c996033476",
   "metadata": {},
   "outputs": [
    {
     "data": {
      "text/plain": [
       "(1, 26)"
      ]
     },
     "execution_count": 59,
     "metadata": {},
     "output_type": "execute_result"
    },
    {
     "data": {
      "text/html": [
       "<div>\n",
       "<style scoped>\n",
       "    .dataframe tbody tr th:only-of-type {\n",
       "        vertical-align: middle;\n",
       "    }\n",
       "\n",
       "    .dataframe tbody tr th {\n",
       "        vertical-align: top;\n",
       "    }\n",
       "\n",
       "    .dataframe thead th {\n",
       "        text-align: right;\n",
       "    }\n",
       "</style>\n",
       "<table border=\"1\" class=\"dataframe\">\n",
       "  <thead>\n",
       "    <tr style=\"text-align: right;\">\n",
       "      <th></th>\n",
       "      <th>order_id</th>\n",
       "      <th>user_id</th>\n",
       "      <th>product_id</th>\n",
       "      <th>order_dow</th>\n",
       "      <th>order_hour_of_day</th>\n",
       "      <th>days_since_prior_order</th>\n",
       "      <th>label</th>\n",
       "      <th>u_total_orders</th>\n",
       "      <th>u_total_items</th>\n",
       "      <th>u_distinct_products</th>\n",
       "      <th>...</th>\n",
       "      <th>p_avg_add_to_cart</th>\n",
       "      <th>p_reorder_prob</th>\n",
       "      <th>up_times_bought</th>\n",
       "      <th>up_last_order_number</th>\n",
       "      <th>up_first_order_number</th>\n",
       "      <th>up_avg_add_to_cart</th>\n",
       "      <th>u_last_prior_order</th>\n",
       "      <th>up_recency</th>\n",
       "      <th>user_total_bought</th>\n",
       "      <th>up_rate_in_user_history</th>\n",
       "    </tr>\n",
       "  </thead>\n",
       "  <tbody>\n",
       "    <tr>\n",
       "      <th>0</th>\n",
       "      <td>272231.0</td>\n",
       "      <td>206209.0</td>\n",
       "      <td>20842</td>\n",
       "      <td>6.0</td>\n",
       "      <td>14.0</td>\n",
       "      <td>30.0</td>\n",
       "      <td>0</td>\n",
       "      <td>13</td>\n",
       "      <td>129</td>\n",
       "      <td>68</td>\n",
       "      <td>...</td>\n",
       "      <td>6.703869</td>\n",
       "      <td>0.690946</td>\n",
       "      <td>1</td>\n",
       "      <td>1</td>\n",
       "      <td>1</td>\n",
       "      <td>11.0</td>\n",
       "      <td>13</td>\n",
       "      <td>12</td>\n",
       "      <td>129</td>\n",
       "      <td>0.007752</td>\n",
       "    </tr>\n",
       "  </tbody>\n",
       "</table>\n",
       "<p>1 rows × 26 columns</p>\n",
       "</div>"
      ],
      "text/plain": [
       "   order_id   user_id  product_id  order_dow  order_hour_of_day  \\\n",
       "0  272231.0  206209.0       20842        6.0               14.0   \n",
       "\n",
       "   days_since_prior_order  label  u_total_orders  u_total_items  \\\n",
       "0                    30.0      0              13            129   \n",
       "\n",
       "   u_distinct_products  ...  p_avg_add_to_cart  p_reorder_prob  \\\n",
       "0                   68  ...           6.703869        0.690946   \n",
       "\n",
       "   up_times_bought  up_last_order_number  up_first_order_number  \\\n",
       "0                1                     1                      1   \n",
       "\n",
       "   up_avg_add_to_cart  u_last_prior_order  up_recency  user_total_bought  \\\n",
       "0                11.0                  13          12                129   \n",
       "\n",
       "   up_rate_in_user_history  \n",
       "0                 0.007752  \n",
       "\n",
       "[1 rows x 26 columns]"
      ]
     },
     "execution_count": 59,
     "metadata": {},
     "output_type": "execute_result"
    }
   ],
   "source": [
    "# All candidate rows for all train orders\n",
    "train_candidates = pd.DataFrame(candidate_rows)\n",
    "\n",
    "# Merge with train_labels: if candidate matches an actual purchase, label=1, else label=0\n",
    "train_candidates = train_candidates.merge(\n",
    "train_labels,\n",
    "on = [\"order_id\", \"user_id\", \"product_id\"],\n",
    "how = \"left\")\n",
    "\n",
    "# Fill missing labels (not actual purchase) with 0\n",
    "train_candidates[\"label\"] = train_candidates[\"label\"].fillna(0).astype(\"int8\")\n",
    "\n",
    "# Add user-level features\n",
    "train_candidates = train_candidates.merge(user_features, on = \"user_id\", how = \"left\")\n",
    "# Add product-level features\n",
    "train_candidates = train_candidates.merge(product_features, on = \"product_id\", how = \"left\")\n",
    "# Add user-product interaction features\n",
    "train_candidates = train_candidates.merge(up_features, on = [\"user_id\", \"product_id\"], how = \"left\")\n",
    "\n",
    "# Print shape and first few rows for inspection\n",
    "train_candidates.shape\n",
    "train_candidates.head()"
   ]
  },
  {
   "cell_type": "code",
   "execution_count": null,
   "id": "56fefde1-9873-412f-bd2e-ef40c2f5cc99",
   "metadata": {},
   "outputs": [],
   "source": [
    "# Build test candidates (similar to train but without labels)\n",
    "# user_prior_products: dict mapping user_id to array of product_ids they've bought before\n",
    "test_candidate_rows = []\n",
    "\n",
    "# Loop through each test order\n",
    "for _, order in orders_test.iterrows():\n",
    "    user_id = order[\"user_id\"]\n",
    "    order_id = order[\"order_id\"]\n",
    "    # Context features for this order (day of week, hour, days since prior)\n",
    "    context = order[[\"order_dow\", \"order_hour_of_day\", \"days_since_prior_order\"]]\n",
    "    # Get all prior products for this user\n",
    "    products = user_prior_products.get(user_id, [])\n",
    "    # For each prior product, create a candidate row\n",
    "    for product_id in products:\n",
    "        row = {\n",
    "            \"order_id\": order_id,\n",
    "            \"user_id\": user_id,\n",
    "            \"product_id\": product_id,\n",
    "            \"order_dow\": context[\"order_dow\"],\n",
    "            \"order_hour_of_day\": context[\"order_hour_of_day\"],\n",
    "            \"days_since_prior_order\": context[\"days_since_prior_order\"]\n",
    "        }\n",
    "test_candidate_rows.append(row)\n",
    "# All candidate rows for all test orders\n",
    "test_candidates = pd.DataFrame(test_candidate_rows)\n",
    "\n",
    "# Add user-level features\n",
    "test_candidates = test_candidates.merge(user_features, on=\"user_id\", how=\"left\")\n",
    "# Add product-level features\n",
    "test_candidates = test_candidates.merge(product_features, on=\"product_id\", how=\"left\")\n",
    "# Add user-product interaction features\n",
    "test_candidates = test_candidates.merge(up_features, on=[\"user_id\", \"product_id\"], how=\"left\")\n",
    "\n",
    "test_candidates.shape\n",
    "test_candidates.head()\n"
   ]
  },
  {
   "cell_type": "code",
   "execution_count": 60,
   "id": "c3e0677f-4325-4102-8910-067db116ec29",
   "metadata": {},
   "outputs": [
    {
     "ename": "NameError",
     "evalue": "name 'test_candidates' is not defined",
     "output_type": "error",
     "traceback": [
      "\u001b[1;31m---------------------------------------------------------------------------\u001b[0m",
      "\u001b[1;31mNameError\u001b[0m                                 Traceback (most recent call last)",
      "Cell \u001b[1;32mIn[60], line 6\u001b[0m\n\u001b[0;32m      4\u001b[0m orders_test\u001b[38;5;241m.\u001b[39mto_csv(PROCESSED \u001b[38;5;241m/\u001b[39m \u001b[38;5;124m\"\u001b[39m\u001b[38;5;124morders_test.csv\u001b[39m\u001b[38;5;124m\"\u001b[39m, index \u001b[38;5;241m=\u001b[39m \u001b[38;5;28;01mFalse\u001b[39;00m)\n\u001b[0;32m      5\u001b[0m train_candidates\u001b[38;5;241m.\u001b[39mto_csv(PROCESSED \u001b[38;5;241m/\u001b[39m \u001b[38;5;124m\"\u001b[39m\u001b[38;5;124mtrain_candidates.csv\u001b[39m\u001b[38;5;124m\"\u001b[39m, index \u001b[38;5;241m=\u001b[39m \u001b[38;5;28;01mFalse\u001b[39;00m)\n\u001b[1;32m----> 6\u001b[0m \u001b[43mtest_candidates\u001b[49m\u001b[38;5;241m.\u001b[39mto_csv(PROCESSED \u001b[38;5;241m/\u001b[39m \u001b[38;5;124m\"\u001b[39m\u001b[38;5;124mtest_candidates.csv\u001b[39m\u001b[38;5;124m\"\u001b[39m, index \u001b[38;5;241m=\u001b[39m \u001b[38;5;28;01mFalse\u001b[39;00m)\n\u001b[0;32m      8\u001b[0m \u001b[38;5;28mprint\u001b[39m(\u001b[38;5;124mf\u001b[39m\u001b[38;5;124m\"\u001b[39m\u001b[38;5;124mSaved processed prior line items to \u001b[39m\u001b[38;5;132;01m{\u001b[39;00mPROCESSED\u001b[38;5;250m \u001b[39m\u001b[38;5;241m/\u001b[39m\u001b[38;5;250m \u001b[39m\u001b[38;5;124m'\u001b[39m\u001b[38;5;124mprior_line_items.csv\u001b[39m\u001b[38;5;124m'\u001b[39m\u001b[38;5;132;01m}\u001b[39;00m\u001b[38;5;124m\"\u001b[39m)\n\u001b[0;32m      9\u001b[0m \u001b[38;5;28mprint\u001b[39m(\u001b[38;5;124m\"\u001b[39m\u001b[38;5;124mSaved orders_prior.csv, orders_train.csv, orders_test.csv to processed directory.\u001b[39m\u001b[38;5;124m\"\u001b[39m)\n",
      "\u001b[1;31mNameError\u001b[0m: name 'test_candidates' is not defined"
     ]
    }
   ],
   "source": [
    "prior.to_csv(PROCESSED / \"prior_line_items.csv\", index = False)\n",
    "orders_prior.to_csv(PROCESSED / \"orders_prior.csv\", index = False)\n",
    "orders_train.to_csv(PROCESSED / \"orders_train.csv\", index = False)\n",
    "orders_test.to_csv(PROCESSED / \"orders_test.csv\", index = False)\n",
    "train_candidates.to_csv(PROCESSED / \"train_candidates.csv\", index = False)\n",
    "test_candidates.to_csv(PROCESSED / \"test_candidates.csv\", index = False)\n",
    "\n",
    "print(f\"Saved processed prior line items to {PROCESSED / 'prior_line_items.csv'}\")\n",
    "print(\"Saved orders_prior.csv, orders_train.csv, orders_test.csv to processed directory.\")\n",
    "print(\"Saved train_candidates.csv, test_candidates.csv to processed directory.\")"
   ]
  },
  {
   "cell_type": "code",
   "execution_count": null,
   "id": "f7c542e1-0081-4eee-aad1-607a57393c66",
   "metadata": {},
   "outputs": [],
   "source": []
  }
 ],
 "metadata": {
  "kernelspec": {
   "display_name": "Python 3 (ipykernel)",
   "language": "python",
   "name": "python3"
  },
  "language_info": {
   "codemirror_mode": {
    "name": "ipython",
    "version": 3
   },
   "file_extension": ".py",
   "mimetype": "text/x-python",
   "name": "python",
   "nbconvert_exporter": "python",
   "pygments_lexer": "ipython3",
   "version": "3.13.1"
  }
 },
 "nbformat": 4,
 "nbformat_minor": 5
}
